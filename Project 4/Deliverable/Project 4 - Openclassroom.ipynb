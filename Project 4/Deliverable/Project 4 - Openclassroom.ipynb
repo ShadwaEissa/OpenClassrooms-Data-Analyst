{
 "cells": [
  {
   "cell_type": "markdown",
   "id": "20471237-f5fd-4309-8d8f-95059550d23f",
   "metadata": {
    "tags": []
   },
   "source": [
    "# Setup"
   ]
  },
  {
   "cell_type": "code",
   "execution_count": 1,
   "id": "8f847f9e-13f9-4fc7-b48e-27ba60952410",
   "metadata": {
    "tags": []
   },
   "outputs": [],
   "source": [
    "import pandas as pd\n",
    "import numpy as np\n",
    "import matplotlib.pyplot as plt"
   ]
  },
  {
   "cell_type": "code",
   "execution_count": 2,
   "id": "857284e5-604e-4917-9bd4-b89a881eaedc",
   "metadata": {},
   "outputs": [],
   "source": [
    "#for autocomplete\n",
    "%config Completer.use_jedi = False"
   ]
  },
  {
   "cell_type": "code",
   "execution_count": 3,
   "id": "15359a06-d4ab-4edc-8a38-d2eeb75417f6",
   "metadata": {
    "tags": []
   },
   "outputs": [],
   "source": [
    "#Setting the display of Pandas to 2 decimal points, and using the comma as a seperator\n",
    "pd.set_option('display.float_format', '{:,.2f}'.format)"
   ]
  },
  {
   "cell_type": "code",
   "execution_count": 4,
   "id": "12f93b85-9421-4516-bbc8-65a9815e7b04",
   "metadata": {
    "tags": []
   },
   "outputs": [],
   "source": [
    "#Importing the csv files into the notebook\n",
    "food_aid = pd.read_csv(r\"C:\\Users\\user\\Desktop\\Shoody\\Education\\Data analysis\\OpenClassrooms - From Benji\\P4 - Deliverables - SE\\Resources\\DAN-P4-FAO\\aide_alimentaire.csv\", encoding='latin-1')\n",
    "food_availability= pd.read_csv(r\"C:\\Users\\user\\Desktop\\Shoody\\Education\\Data analysis\\OpenClassrooms - From Benji\\P4 - Deliverables - SE\\Resources\\DAN-P4-FAO\\dispo_alimentaire.csv\", encoding='latin-1')\n",
    "population = pd.read_csv(r\"C:\\Users\\user\\Desktop\\Shoody\\Education\\Data analysis\\OpenClassrooms - From Benji\\P4 - Deliverables - SE\\Resources\\DAN-P4-FAO\\population.csv\", encoding='latin-1')\n",
    "under_nutrition = pd.read_csv(r\"C:\\Users\\user\\Desktop\\Shoody\\Education\\Data analysis\\OpenClassrooms - From Benji\\P4 - Deliverables - SE\\Resources\\DAN-P4-FAO\\sous_nutrition.csv\")"
   ]
  },
  {
   "cell_type": "markdown",
   "id": "f70ce584-2237-4d7b-9e24-1300ca2fabe3",
   "metadata": {
    "tags": []
   },
   "source": [
    "# Part I"
   ]
  },
  {
   "cell_type": "markdown",
   "id": "6addb12e-1fef-42de-83a0-c43ef21c4437",
   "metadata": {
    "tags": []
   },
   "source": [
    "##  Part I Requests / Demandes de la Partie I"
   ]
  },
  {
   "cell_type": "markdown",
   "id": "2d8435bd-1899-443e-9fc6-c265920d02b4",
   "metadata": {},
   "source": [
    "**FR**\n",
    "\n",
    "**Les données sur lesquelles j’aimerais particulièrement avoir des informations sont, pour l’année 2017 :**\n",
    "\n",
    "1. la proportion de personnes en état de sous-nutrition ;\n",
    "2. le nombre théorique de personnes qui pourraient être nourries. Tu devrais pouvoir calculer ça à partir de la  disponibilité alimentaire mondiale ;\n",
    "3. idem pour la disponibilité alimentaire des produits végétaux ;\n",
    "4. l’utilisation de la disponibilité intérieure, en particulier la part qui est attribuée à l’alimentation animale, celle qui est perdue et celle qui est concrètement utilisée pour l'alimentation humaine. Je crois que Julien avait trouvé un moyen de facilement calculer ces proportions."
   ]
  },
  {
   "cell_type": "markdown",
   "id": "026d4b56-5a31-42c2-a223-496551a210e1",
   "metadata": {},
   "source": [
    "**EN**\n",
    "\n",
    "**The data on which I would particularly like to have information are, for the year 2017:**\n",
    "\n",
    "1. the proportion of people in a state of undernutrition;\n",
    "2. the theoretical number of people who could be fed. You should be able to calculate this from global food availability;\n",
    "3. the same goes for the food availability of plant products;\n",
    "4. the use of domestic availability, in particular the part which is allocated to animal feed, the part which is lost and the part which is actually used for human food. I believe that Julien had found a way to easily calculate these proportions."
   ]
  },
  {
   "cell_type": "markdown",
   "id": "33d16045-f339-49c3-a135-41ac4b79b443",
   "metadata": {
    "tags": []
   },
   "source": [
    "## Part I Requested Results / Partie I Résultats demandés"
   ]
  },
  {
   "cell_type": "markdown",
   "id": "9a447f1c-45b8-462f-b858-0912607ccca3",
   "metadata": {
    "tags": []
   },
   "source": [
    "### 1. The poportion of people in the world under nutrition in 2017 (EN)\n",
    "### 1. La proportion de personnes sous-alimentées dans le monde en 2017 (FR)"
   ]
  },
  {
   "cell_type": "code",
   "execution_count": 5,
   "id": "f0eccb99-8a2c-41c4-bc67-e14c90f17d19",
   "metadata": {
    "tags": []
   },
   "outputs": [
    {
     "data": {
      "text/html": [
       "<div>\n",
       "<style scoped>\n",
       "    .dataframe tbody tr th:only-of-type {\n",
       "        vertical-align: middle;\n",
       "    }\n",
       "\n",
       "    .dataframe tbody tr th {\n",
       "        vertical-align: top;\n",
       "    }\n",
       "\n",
       "    .dataframe thead th {\n",
       "        text-align: right;\n",
       "    }\n",
       "</style>\n",
       "<table border=\"1\" class=\"dataframe\">\n",
       "  <thead>\n",
       "    <tr style=\"text-align: right;\">\n",
       "      <th></th>\n",
       "      <th>Zone</th>\n",
       "      <th>Année</th>\n",
       "      <th>Population</th>\n",
       "    </tr>\n",
       "  </thead>\n",
       "  <tbody>\n",
       "    <tr>\n",
       "      <th>0</th>\n",
       "      <td>Afghanistan</td>\n",
       "      <td>2013</td>\n",
       "      <td>32,269,589.00</td>\n",
       "    </tr>\n",
       "    <tr>\n",
       "      <th>1</th>\n",
       "      <td>Afghanistan</td>\n",
       "      <td>2014</td>\n",
       "      <td>33,370,794.00</td>\n",
       "    </tr>\n",
       "    <tr>\n",
       "      <th>2</th>\n",
       "      <td>Afghanistan</td>\n",
       "      <td>2015</td>\n",
       "      <td>34,413,603.00</td>\n",
       "    </tr>\n",
       "    <tr>\n",
       "      <th>3</th>\n",
       "      <td>Afghanistan</td>\n",
       "      <td>2016</td>\n",
       "      <td>35,383,032.00</td>\n",
       "    </tr>\n",
       "    <tr>\n",
       "      <th>4</th>\n",
       "      <td>Afghanistan</td>\n",
       "      <td>2017</td>\n",
       "      <td>36,296,113.00</td>\n",
       "    </tr>\n",
       "  </tbody>\n",
       "</table>\n",
       "</div>"
      ],
      "text/plain": [
       "          Zone  Année    Population\n",
       "0  Afghanistan   2013 32,269,589.00\n",
       "1  Afghanistan   2014 33,370,794.00\n",
       "2  Afghanistan   2015 34,413,603.00\n",
       "3  Afghanistan   2016 35,383,032.00\n",
       "4  Afghanistan   2017 36,296,113.00"
      ]
     },
     "execution_count": 5,
     "metadata": {},
     "output_type": "execute_result"
    }
   ],
   "source": [
    "#Changing the column \"Valeur\" from thausands to millions / Changer la colonne \"Valeur\" de milliers à millions\n",
    "population[\"Valeur\"] = population[\"Valeur\"] * 1000\n",
    "\n",
    "#Renaming the column from \"Valeur\" to Population / Renommer la colonne da \"Valeur\" à \"Population\"\n",
    "population = population.rename(columns={\"Valeur\": \"Population\"})\n",
    "population.head()"
   ]
  },
  {
   "cell_type": "code",
   "execution_count": 6,
   "id": "f9b82c5b-0c53-423f-a086-c44ff039b868",
   "metadata": {
    "tags": []
   },
   "outputs": [
    {
     "data": {
      "text/html": [
       "<div>\n",
       "<style scoped>\n",
       "    .dataframe tbody tr th:only-of-type {\n",
       "        vertical-align: middle;\n",
       "    }\n",
       "\n",
       "    .dataframe tbody tr th {\n",
       "        vertical-align: top;\n",
       "    }\n",
       "\n",
       "    .dataframe thead th {\n",
       "        text-align: right;\n",
       "    }\n",
       "</style>\n",
       "<table border=\"1\" class=\"dataframe\">\n",
       "  <thead>\n",
       "    <tr style=\"text-align: right;\">\n",
       "      <th></th>\n",
       "      <th>Année</th>\n",
       "      <th>Zone</th>\n",
       "      <th>Population</th>\n",
       "    </tr>\n",
       "  </thead>\n",
       "  <tbody>\n",
       "    <tr>\n",
       "      <th>0</th>\n",
       "      <td>2013</td>\n",
       "      <td>AfghanistanAfrique du SudAlbanieAlgérieAllemag...</td>\n",
       "      <td>7,210,845,848.00</td>\n",
       "    </tr>\n",
       "    <tr>\n",
       "      <th>1</th>\n",
       "      <td>2014</td>\n",
       "      <td>AfghanistanAfrique du SudAlbanieAlgérieAllemag...</td>\n",
       "      <td>7,295,557,771.00</td>\n",
       "    </tr>\n",
       "    <tr>\n",
       "      <th>2</th>\n",
       "      <td>2015</td>\n",
       "      <td>AfghanistanAfrique du SudAlbanieAlgérieAllemag...</td>\n",
       "      <td>7,380,067,075.00</td>\n",
       "    </tr>\n",
       "    <tr>\n",
       "      <th>3</th>\n",
       "      <td>2016</td>\n",
       "      <td>AfghanistanAfrique du SudAlbanieAlgérieAllemag...</td>\n",
       "      <td>7,464,294,742.00</td>\n",
       "    </tr>\n",
       "    <tr>\n",
       "      <th>4</th>\n",
       "      <td>2017</td>\n",
       "      <td>AfghanistanAfrique du SudAlbanieAlgérieAllemag...</td>\n",
       "      <td>7,548,134,111.00</td>\n",
       "    </tr>\n",
       "    <tr>\n",
       "      <th>5</th>\n",
       "      <td>2018</td>\n",
       "      <td>AfghanistanAfrique du SudAlbanieAlgérieAllemag...</td>\n",
       "      <td>7,631,368,523.00</td>\n",
       "    </tr>\n",
       "  </tbody>\n",
       "</table>\n",
       "</div>"
      ],
      "text/plain": [
       "   Année                                               Zone       Population\n",
       "0   2013  AfghanistanAfrique du SudAlbanieAlgérieAllemag... 7,210,845,848.00\n",
       "1   2014  AfghanistanAfrique du SudAlbanieAlgérieAllemag... 7,295,557,771.00\n",
       "2   2015  AfghanistanAfrique du SudAlbanieAlgérieAllemag... 7,380,067,075.00\n",
       "3   2016  AfghanistanAfrique du SudAlbanieAlgérieAllemag... 7,464,294,742.00\n",
       "4   2017  AfghanistanAfrique du SudAlbanieAlgérieAllemag... 7,548,134,111.00\n",
       "5   2018  AfghanistanAfrique du SudAlbanieAlgérieAllemag... 7,631,368,523.00"
      ]
     },
     "execution_count": 6,
     "metadata": {},
     "output_type": "execute_result"
    }
   ],
   "source": [
    "#Finding the world population by year / Trouver la population mondiale par année\n",
    "world_population_by_year = population.groupby(\"Année\").sum()\n",
    "world_population_by_year = world_population_by_year.reset_index()\n",
    "world_population_by_year"
   ]
  },
  {
   "cell_type": "code",
   "execution_count": 7,
   "id": "dedfbc12-0cd6-488c-9857-c0cf8c025d61",
   "metadata": {
    "tags": []
   },
   "outputs": [
    {
     "name": "stdout",
     "output_type": "stream",
     "text": [
      "The world population in 2017 was** 7,548,134,111 human beings\n"
     ]
    }
   ],
   "source": [
    "#Extracting the world population of 2017 / Extraction de la population mondiale de 2017\n",
    "world_population_2017 = world_population_by_year.at[4, \"Population\"]\n",
    "formatted_world_population_2017 = '{:,.0f}'.format(world_population_2017)\n",
    "print('The world population in 2017 was**', formatted_world_population_2017, \"human beings\")"
   ]
  },
  {
   "cell_type": "code",
   "execution_count": 8,
   "id": "74e55776-f517-4089-a094-27bdeca18b68",
   "metadata": {
    "tags": []
   },
   "outputs": [
    {
     "data": {
      "text/plain": [
       "102    0\n",
       "103    0\n",
       "104    0\n",
       "105    0\n",
       "106    0\n",
       "107    0\n",
       "Name: Valeur, dtype: object"
      ]
     },
     "execution_count": 8,
     "metadata": {},
     "output_type": "execute_result"
    }
   ],
   "source": [
    "#Removing all the \"<\" from the column \"Valeur\" in under nutrtion dataframe \n",
    "#Suppression de tous les \"<\" de la colonne \"Valeur\" dans le dataframe de sous nutrition \n",
    "under_nutrition[\"Valeur\"] = under_nutrition[\"Valeur\"].str.replace(\"<0.1\", \"0\")\n",
    "\n",
    "#Checking if it works / Vérifier si cela fonctionne\n",
    "under_nutrition.loc[under_nutrition[\"Zone\"] == \"Barbade\", \"Valeur\"]"
   ]
  },
  {
   "cell_type": "code",
   "execution_count": 9,
   "id": "317068f4-1c56-4680-9332-4906804c52ae",
   "metadata": {
    "tags": []
   },
   "outputs": [
    {
     "data": {
      "text/plain": [
       "Zone       object\n",
       "Année      object\n",
       "Valeur    float64\n",
       "dtype: object"
      ]
     },
     "execution_count": 9,
     "metadata": {},
     "output_type": "execute_result"
    }
   ],
   "source": [
    "#Converting the column of \"Valeur\" from object to floats / Conversion de la colonne \"Valeur\" de \"object\" en \"float\"\n",
    "under_nutrition[\"Valeur\"] = pd.to_numeric(under_nutrition[\"Valeur\"], errors='coerce')            \n",
    "under_nutrition.dtypes"
   ]
  },
  {
   "cell_type": "code",
   "execution_count": 10,
   "id": "3c3a206d-08d4-4114-9f40-d5fff2660153",
   "metadata": {
    "tags": []
   },
   "outputs": [
    {
     "data": {
      "text/html": [
       "<div>\n",
       "<style scoped>\n",
       "    .dataframe tbody tr th:only-of-type {\n",
       "        vertical-align: middle;\n",
       "    }\n",
       "\n",
       "    .dataframe tbody tr th {\n",
       "        vertical-align: top;\n",
       "    }\n",
       "\n",
       "    .dataframe thead th {\n",
       "        text-align: right;\n",
       "    }\n",
       "</style>\n",
       "<table border=\"1\" class=\"dataframe\">\n",
       "  <thead>\n",
       "    <tr style=\"text-align: right;\">\n",
       "      <th></th>\n",
       "      <th>Année</th>\n",
       "      <th>Zone</th>\n",
       "      <th>Population in millions</th>\n",
       "    </tr>\n",
       "  </thead>\n",
       "  <tbody>\n",
       "    <tr>\n",
       "      <th>0</th>\n",
       "      <td>2012-2014</td>\n",
       "      <td>AfghanistanAfrique du SudAlbanieAlgérieAllemag...</td>\n",
       "      <td>528.10</td>\n",
       "    </tr>\n",
       "    <tr>\n",
       "      <th>1</th>\n",
       "      <td>2013-2015</td>\n",
       "      <td>AfghanistanAfrique du SudAlbanieAlgérieAllemag...</td>\n",
       "      <td>523.50</td>\n",
       "    </tr>\n",
       "    <tr>\n",
       "      <th>2</th>\n",
       "      <td>2014-2016</td>\n",
       "      <td>AfghanistanAfrique du SudAlbanieAlgérieAllemag...</td>\n",
       "      <td>524.70</td>\n",
       "    </tr>\n",
       "    <tr>\n",
       "      <th>3</th>\n",
       "      <td>2015-2017</td>\n",
       "      <td>AfghanistanAfrique du SudAlbanieAlgérieAllemag...</td>\n",
       "      <td>528.60</td>\n",
       "    </tr>\n",
       "    <tr>\n",
       "      <th>4</th>\n",
       "      <td>2016-2018</td>\n",
       "      <td>AfghanistanAfrique du SudAlbanieAlgérieAllemag...</td>\n",
       "      <td>535.70</td>\n",
       "    </tr>\n",
       "    <tr>\n",
       "      <th>5</th>\n",
       "      <td>2017-2019</td>\n",
       "      <td>AfghanistanAfrique du SudAlbanieAlgérieAllemag...</td>\n",
       "      <td>544.20</td>\n",
       "    </tr>\n",
       "  </tbody>\n",
       "</table>\n",
       "</div>"
      ],
      "text/plain": [
       "       Année                                               Zone   \n",
       "0  2012-2014  AfghanistanAfrique du SudAlbanieAlgérieAllemag...  \\\n",
       "1  2013-2015  AfghanistanAfrique du SudAlbanieAlgérieAllemag...   \n",
       "2  2014-2016  AfghanistanAfrique du SudAlbanieAlgérieAllemag...   \n",
       "3  2015-2017  AfghanistanAfrique du SudAlbanieAlgérieAllemag...   \n",
       "4  2016-2018  AfghanistanAfrique du SudAlbanieAlgérieAllemag...   \n",
       "5  2017-2019  AfghanistanAfrique du SudAlbanieAlgérieAllemag...   \n",
       "\n",
       "   Population in millions  \n",
       "0                  528.10  \n",
       "1                  523.50  \n",
       "2                  524.70  \n",
       "3                  528.60  \n",
       "4                  535.70  \n",
       "5                  544.20  "
      ]
     },
     "execution_count": 10,
     "metadata": {},
     "output_type": "execute_result"
    }
   ],
   "source": [
    "#Calculating the number of people under nutrition in the world in 2016-2018 \n",
    "#Calcul du nombre de personnes sous-alimentées dans le monde en 2016-2018\n",
    "total_under_nutrition_by_year = under_nutrition.groupby(\"Année\").sum() \n",
    "total_under_nutrition_by_year = total_under_nutrition_by_year.rename(columns={\"Valeur\": \"Population in millions\"})\n",
    "total_under_nutrition_by_year = total_under_nutrition_by_year.reset_index()\n",
    "total_under_nutrition_by_year"
   ]
  },
  {
   "cell_type": "code",
   "execution_count": 11,
   "id": "083c5e06-753f-4876-9fef-79b18dc034d4",
   "metadata": {},
   "outputs": [
    {
     "name": "stdout",
     "output_type": "stream",
     "text": [
      "The proportion of world poplulation under nutrition in the world in 2017 is 7.1 %\n"
     ]
    }
   ],
   "source": [
    "#Calculating the proportion of pepople under nutrtion in the world \n",
    "#Calcul de la proportion de personnes sous-alimentées dans le monde\n",
    "total_under_nutrition_2017 = total_under_nutrition_by_year.at[4, \"Population in millions\"]\n",
    "proportion = round(((total_under_nutrition_2017 * 1000000) / world_population_2017)*100, 2)\n",
    "print(\"The proportion of world poplulation under nutrition in the world in 2017 is\", proportion, \"%\")"
   ]
  },
  {
   "cell_type": "markdown",
   "id": "5623a17c-1144-4693-a545-fbbf0ba9b6d5",
   "metadata": {
    "tags": []
   },
   "source": [
    "### 2. The theoretical number of people who could be fed in 2017 with the available food in the world\n",
    "### 2. Le nombre théorique de personnes qui pourraient être nourries en 2017 avec la nourriture disponible dans le monde"
   ]
  },
  {
   "cell_type": "code",
   "execution_count": 12,
   "id": "d73dcd08-7ff4-4716-ad1e-1b7fa778b06c",
   "metadata": {
    "tags": []
   },
   "outputs": [
    {
     "data": {
      "text/html": [
       "<div>\n",
       "<style scoped>\n",
       "    .dataframe tbody tr th:only-of-type {\n",
       "        vertical-align: middle;\n",
       "    }\n",
       "\n",
       "    .dataframe tbody tr th {\n",
       "        vertical-align: top;\n",
       "    }\n",
       "\n",
       "    .dataframe thead th {\n",
       "        text-align: right;\n",
       "    }\n",
       "</style>\n",
       "<table border=\"1\" class=\"dataframe\">\n",
       "  <thead>\n",
       "    <tr style=\"text-align: right;\">\n",
       "      <th></th>\n",
       "      <th>Zone</th>\n",
       "      <th>Produit</th>\n",
       "      <th>Origine</th>\n",
       "      <th>Aliments pour animaux</th>\n",
       "      <th>Autres Utilisations</th>\n",
       "      <th>Kcal/pers/jour</th>\n",
       "      <th>Disponibilité alimentaire en quantité (kg/personne/an)</th>\n",
       "      <th>Disponibilité de matière grasse en quantité (g/personne/jour)</th>\n",
       "      <th>Disponibilité de protéines en quantité (g/personne/jour)</th>\n",
       "      <th>Disponibilité intérieure</th>\n",
       "      <th>Exportations - Quantité</th>\n",
       "      <th>Importations - Quantité</th>\n",
       "      <th>Nourriture</th>\n",
       "      <th>Pertes</th>\n",
       "      <th>Production</th>\n",
       "      <th>Semences</th>\n",
       "      <th>Traitement</th>\n",
       "      <th>Variation de stock</th>\n",
       "    </tr>\n",
       "  </thead>\n",
       "  <tbody>\n",
       "    <tr>\n",
       "      <th>0</th>\n",
       "      <td>Afghanistan</td>\n",
       "      <td>Abats Comestible</td>\n",
       "      <td>animale</td>\n",
       "      <td>NaN</td>\n",
       "      <td>NaN</td>\n",
       "      <td>5.00</td>\n",
       "      <td>1.72</td>\n",
       "      <td>0.20</td>\n",
       "      <td>0.77</td>\n",
       "      <td>53.00</td>\n",
       "      <td>NaN</td>\n",
       "      <td>NaN</td>\n",
       "      <td>53.00</td>\n",
       "      <td>NaN</td>\n",
       "      <td>53.00</td>\n",
       "      <td>NaN</td>\n",
       "      <td>NaN</td>\n",
       "      <td>NaN</td>\n",
       "    </tr>\n",
       "    <tr>\n",
       "      <th>1</th>\n",
       "      <td>Afghanistan</td>\n",
       "      <td>Agrumes, Autres</td>\n",
       "      <td>vegetale</td>\n",
       "      <td>NaN</td>\n",
       "      <td>NaN</td>\n",
       "      <td>1.00</td>\n",
       "      <td>1.29</td>\n",
       "      <td>0.01</td>\n",
       "      <td>0.02</td>\n",
       "      <td>41.00</td>\n",
       "      <td>2.00</td>\n",
       "      <td>40.00</td>\n",
       "      <td>39.00</td>\n",
       "      <td>2.00</td>\n",
       "      <td>3.00</td>\n",
       "      <td>NaN</td>\n",
       "      <td>NaN</td>\n",
       "      <td>NaN</td>\n",
       "    </tr>\n",
       "    <tr>\n",
       "      <th>2</th>\n",
       "      <td>Afghanistan</td>\n",
       "      <td>Aliments pour enfants</td>\n",
       "      <td>vegetale</td>\n",
       "      <td>NaN</td>\n",
       "      <td>NaN</td>\n",
       "      <td>1.00</td>\n",
       "      <td>0.06</td>\n",
       "      <td>0.01</td>\n",
       "      <td>0.03</td>\n",
       "      <td>2.00</td>\n",
       "      <td>NaN</td>\n",
       "      <td>2.00</td>\n",
       "      <td>2.00</td>\n",
       "      <td>NaN</td>\n",
       "      <td>NaN</td>\n",
       "      <td>NaN</td>\n",
       "      <td>NaN</td>\n",
       "      <td>NaN</td>\n",
       "    </tr>\n",
       "    <tr>\n",
       "      <th>3</th>\n",
       "      <td>Afghanistan</td>\n",
       "      <td>Ananas</td>\n",
       "      <td>vegetale</td>\n",
       "      <td>NaN</td>\n",
       "      <td>NaN</td>\n",
       "      <td>0.00</td>\n",
       "      <td>0.00</td>\n",
       "      <td>NaN</td>\n",
       "      <td>NaN</td>\n",
       "      <td>0.00</td>\n",
       "      <td>NaN</td>\n",
       "      <td>0.00</td>\n",
       "      <td>0.00</td>\n",
       "      <td>NaN</td>\n",
       "      <td>NaN</td>\n",
       "      <td>NaN</td>\n",
       "      <td>NaN</td>\n",
       "      <td>NaN</td>\n",
       "    </tr>\n",
       "    <tr>\n",
       "      <th>4</th>\n",
       "      <td>Afghanistan</td>\n",
       "      <td>Bananes</td>\n",
       "      <td>vegetale</td>\n",
       "      <td>NaN</td>\n",
       "      <td>NaN</td>\n",
       "      <td>4.00</td>\n",
       "      <td>2.70</td>\n",
       "      <td>0.02</td>\n",
       "      <td>0.05</td>\n",
       "      <td>82.00</td>\n",
       "      <td>NaN</td>\n",
       "      <td>82.00</td>\n",
       "      <td>82.00</td>\n",
       "      <td>NaN</td>\n",
       "      <td>NaN</td>\n",
       "      <td>NaN</td>\n",
       "      <td>NaN</td>\n",
       "      <td>NaN</td>\n",
       "    </tr>\n",
       "  </tbody>\n",
       "</table>\n",
       "</div>"
      ],
      "text/plain": [
       "          Zone                Produit   Origine  Aliments pour animaux   \n",
       "0  Afghanistan       Abats Comestible   animale                    NaN  \\\n",
       "1  Afghanistan        Agrumes, Autres  vegetale                    NaN   \n",
       "2  Afghanistan  Aliments pour enfants  vegetale                    NaN   \n",
       "3  Afghanistan                 Ananas  vegetale                    NaN   \n",
       "4  Afghanistan                Bananes  vegetale                    NaN   \n",
       "\n",
       "   Autres Utilisations  Kcal/pers/jour   \n",
       "0                  NaN            5.00  \\\n",
       "1                  NaN            1.00   \n",
       "2                  NaN            1.00   \n",
       "3                  NaN            0.00   \n",
       "4                  NaN            4.00   \n",
       "\n",
       "   Disponibilité alimentaire en quantité (kg/personne/an)   \n",
       "0                                               1.72       \\\n",
       "1                                               1.29        \n",
       "2                                               0.06        \n",
       "3                                               0.00        \n",
       "4                                               2.70        \n",
       "\n",
       "   Disponibilité de matière grasse en quantité (g/personne/jour)   \n",
       "0                                               0.20              \\\n",
       "1                                               0.01               \n",
       "2                                               0.01               \n",
       "3                                                NaN               \n",
       "4                                               0.02               \n",
       "\n",
       "   Disponibilité de protéines en quantité (g/personne/jour)   \n",
       "0                                               0.77         \\\n",
       "1                                               0.02          \n",
       "2                                               0.03          \n",
       "3                                                NaN          \n",
       "4                                               0.05          \n",
       "\n",
       "   Disponibilité intérieure  Exportations - Quantité  Importations - Quantité   \n",
       "0                     53.00                      NaN                      NaN  \\\n",
       "1                     41.00                     2.00                    40.00   \n",
       "2                      2.00                      NaN                     2.00   \n",
       "3                      0.00                      NaN                     0.00   \n",
       "4                     82.00                      NaN                    82.00   \n",
       "\n",
       "   Nourriture  Pertes  Production  Semences  Traitement  Variation de stock  \n",
       "0       53.00     NaN       53.00       NaN         NaN                 NaN  \n",
       "1       39.00    2.00        3.00       NaN         NaN                 NaN  \n",
       "2        2.00     NaN         NaN       NaN         NaN                 NaN  \n",
       "3        0.00     NaN         NaN       NaN         NaN                 NaN  \n",
       "4       82.00     NaN         NaN       NaN         NaN                 NaN  "
      ]
     },
     "execution_count": 12,
     "metadata": {},
     "output_type": "execute_result"
    }
   ],
   "source": [
    "#Renaming column to \"Kcal/personne/jour\" / Renommer la colonne en \"Kcal/personne/jour\" \n",
    "food_availability = food_availability.rename(columns={\"Disponibilité alimentaire (Kcal/personne/jour)\": \"Kcal/pers/jour\"})\n",
    "food_availability.head()"
   ]
  },
  {
   "cell_type": "code",
   "execution_count": 13,
   "id": "4825180f-4f7b-4a2b-a5a9-a6058e213470",
   "metadata": {
    "tags": []
   },
   "outputs": [
    {
     "data": {
      "text/html": [
       "<div>\n",
       "<style scoped>\n",
       "    .dataframe tbody tr th:only-of-type {\n",
       "        vertical-align: middle;\n",
       "    }\n",
       "\n",
       "    .dataframe tbody tr th {\n",
       "        vertical-align: top;\n",
       "    }\n",
       "\n",
       "    .dataframe thead th {\n",
       "        text-align: right;\n",
       "    }\n",
       "</style>\n",
       "<table border=\"1\" class=\"dataframe\">\n",
       "  <thead>\n",
       "    <tr style=\"text-align: right;\">\n",
       "      <th></th>\n",
       "      <th>Kcal/pers/jour</th>\n",
       "      <th>Kcal/pers/anne</th>\n",
       "    </tr>\n",
       "    <tr>\n",
       "      <th>Zone</th>\n",
       "      <th></th>\n",
       "      <th></th>\n",
       "    </tr>\n",
       "  </thead>\n",
       "  <tbody>\n",
       "    <tr>\n",
       "      <th>Afghanistan</th>\n",
       "      <td>2,087.00</td>\n",
       "      <td>761,755.00</td>\n",
       "    </tr>\n",
       "    <tr>\n",
       "      <th>Afrique du Sud</th>\n",
       "      <td>3,020.00</td>\n",
       "      <td>1,102,300.00</td>\n",
       "    </tr>\n",
       "    <tr>\n",
       "      <th>Albanie</th>\n",
       "      <td>3,188.00</td>\n",
       "      <td>1,163,620.00</td>\n",
       "    </tr>\n",
       "    <tr>\n",
       "      <th>Algérie</th>\n",
       "      <td>3,293.00</td>\n",
       "      <td>1,201,945.00</td>\n",
       "    </tr>\n",
       "    <tr>\n",
       "      <th>Allemagne</th>\n",
       "      <td>3,503.00</td>\n",
       "      <td>1,278,595.00</td>\n",
       "    </tr>\n",
       "    <tr>\n",
       "      <th>...</th>\n",
       "      <td>...</td>\n",
       "      <td>...</td>\n",
       "    </tr>\n",
       "    <tr>\n",
       "      <th>Émirats arabes unis</th>\n",
       "      <td>3,275.00</td>\n",
       "      <td>1,195,375.00</td>\n",
       "    </tr>\n",
       "    <tr>\n",
       "      <th>Équateur</th>\n",
       "      <td>2,346.00</td>\n",
       "      <td>856,290.00</td>\n",
       "    </tr>\n",
       "    <tr>\n",
       "      <th>États-Unis d'Amérique</th>\n",
       "      <td>3,682.00</td>\n",
       "      <td>1,343,930.00</td>\n",
       "    </tr>\n",
       "    <tr>\n",
       "      <th>Éthiopie</th>\n",
       "      <td>2,129.00</td>\n",
       "      <td>777,085.00</td>\n",
       "    </tr>\n",
       "    <tr>\n",
       "      <th>Îles Salomon</th>\n",
       "      <td>2,383.00</td>\n",
       "      <td>869,795.00</td>\n",
       "    </tr>\n",
       "  </tbody>\n",
       "</table>\n",
       "<p>174 rows × 2 columns</p>\n",
       "</div>"
      ],
      "text/plain": [
       "                       Kcal/pers/jour  Kcal/pers/anne\n",
       "Zone                                                 \n",
       "Afghanistan                  2,087.00      761,755.00\n",
       "Afrique du Sud               3,020.00    1,102,300.00\n",
       "Albanie                      3,188.00    1,163,620.00\n",
       "Algérie                      3,293.00    1,201,945.00\n",
       "Allemagne                    3,503.00    1,278,595.00\n",
       "...                               ...             ...\n",
       "Émirats arabes unis          3,275.00    1,195,375.00\n",
       "Équateur                     2,346.00      856,290.00\n",
       "États-Unis d'Amérique        3,682.00    1,343,930.00\n",
       "Éthiopie                     2,129.00      777,085.00\n",
       "Îles Salomon                 2,383.00      869,795.00\n",
       "\n",
       "[174 rows x 2 columns]"
      ]
     },
     "execution_count": 13,
     "metadata": {},
     "output_type": "execute_result"
    }
   ],
   "source": [
    "#Aggregating Kcal available in each country / Agrégation de Kcal disponible dans chaque pays\n",
    "total_food_available_by_country = food_availability.pivot_table(values=\"Kcal/pers/jour\", index=\"Zone\", aggfunc=\"sum\")\n",
    "\n",
    "#Multiplying by 365 days to find Kcal available by year / Multiplier par 365 jours pour trouver les Kcal disponibles par année\n",
    "total_food_available_by_country[\"Kcal/pers/anne\"] = total_food_available_by_country[\"Kcal/pers/jour\"] * 365\n",
    "total_food_available_by_country"
   ]
  },
  {
   "cell_type": "code",
   "execution_count": 14,
   "id": "53acfc05-577e-449f-ba4f-1c0c4e9cb41e",
   "metadata": {
    "tags": []
   },
   "outputs": [
    {
     "data": {
      "text/html": [
       "<div>\n",
       "<style scoped>\n",
       "    .dataframe tbody tr th:only-of-type {\n",
       "        vertical-align: middle;\n",
       "    }\n",
       "\n",
       "    .dataframe tbody tr th {\n",
       "        vertical-align: top;\n",
       "    }\n",
       "\n",
       "    .dataframe thead th {\n",
       "        text-align: right;\n",
       "    }\n",
       "</style>\n",
       "<table border=\"1\" class=\"dataframe\">\n",
       "  <thead>\n",
       "    <tr style=\"text-align: right;\">\n",
       "      <th></th>\n",
       "      <th>Zone</th>\n",
       "      <th>Année</th>\n",
       "      <th>Population</th>\n",
       "    </tr>\n",
       "  </thead>\n",
       "  <tbody>\n",
       "    <tr>\n",
       "      <th>0</th>\n",
       "      <td>Afghanistan</td>\n",
       "      <td>2017</td>\n",
       "      <td>36,296,113.00</td>\n",
       "    </tr>\n",
       "    <tr>\n",
       "      <th>1</th>\n",
       "      <td>Afrique du Sud</td>\n",
       "      <td>2017</td>\n",
       "      <td>57,009,756.00</td>\n",
       "    </tr>\n",
       "    <tr>\n",
       "      <th>2</th>\n",
       "      <td>Albanie</td>\n",
       "      <td>2017</td>\n",
       "      <td>2,884,169.00</td>\n",
       "    </tr>\n",
       "    <tr>\n",
       "      <th>3</th>\n",
       "      <td>Algérie</td>\n",
       "      <td>2017</td>\n",
       "      <td>41,389,189.00</td>\n",
       "    </tr>\n",
       "    <tr>\n",
       "      <th>4</th>\n",
       "      <td>Allemagne</td>\n",
       "      <td>2017</td>\n",
       "      <td>82,658,409.00</td>\n",
       "    </tr>\n",
       "    <tr>\n",
       "      <th>...</th>\n",
       "      <td>...</td>\n",
       "      <td>...</td>\n",
       "      <td>...</td>\n",
       "    </tr>\n",
       "    <tr>\n",
       "      <th>231</th>\n",
       "      <td>Venezuela (République bolivarienne du)</td>\n",
       "      <td>2017</td>\n",
       "      <td>29,402,484.00</td>\n",
       "    </tr>\n",
       "    <tr>\n",
       "      <th>232</th>\n",
       "      <td>Viet Nam</td>\n",
       "      <td>2017</td>\n",
       "      <td>94,600,648.00</td>\n",
       "    </tr>\n",
       "    <tr>\n",
       "      <th>233</th>\n",
       "      <td>Yémen</td>\n",
       "      <td>2017</td>\n",
       "      <td>27,834,819.00</td>\n",
       "    </tr>\n",
       "    <tr>\n",
       "      <th>234</th>\n",
       "      <td>Zambie</td>\n",
       "      <td>2017</td>\n",
       "      <td>16,853,599.00</td>\n",
       "    </tr>\n",
       "    <tr>\n",
       "      <th>235</th>\n",
       "      <td>Zimbabwe</td>\n",
       "      <td>2017</td>\n",
       "      <td>14,236,595.00</td>\n",
       "    </tr>\n",
       "  </tbody>\n",
       "</table>\n",
       "<p>236 rows × 3 columns</p>\n",
       "</div>"
      ],
      "text/plain": [
       "                                       Zone  Année    Population\n",
       "0                               Afghanistan   2017 36,296,113.00\n",
       "1                            Afrique du Sud   2017 57,009,756.00\n",
       "2                                   Albanie   2017  2,884,169.00\n",
       "3                                   Algérie   2017 41,389,189.00\n",
       "4                                 Allemagne   2017 82,658,409.00\n",
       "..                                      ...    ...           ...\n",
       "231  Venezuela (République bolivarienne du)   2017 29,402,484.00\n",
       "232                                Viet Nam   2017 94,600,648.00\n",
       "233                                   Yémen   2017 27,834,819.00\n",
       "234                                  Zambie   2017 16,853,599.00\n",
       "235                                Zimbabwe   2017 14,236,595.00\n",
       "\n",
       "[236 rows x 3 columns]"
      ]
     },
     "execution_count": 14,
     "metadata": {},
     "output_type": "execute_result"
    }
   ],
   "source": [
    "#Finding the population of each country in 2017 / Connaitre le population de chaque pays en 2017\n",
    "population_by_country_2017 = population.loc[population[\"Année\"] == 2017, :]\n",
    "population_by_country_2017 = population_by_country_2017.reset_index(drop=True)\n",
    "population_by_country_2017"
   ]
  },
  {
   "cell_type": "code",
   "execution_count": 15,
   "id": "a14f93b1-d93f-429b-96a1-c22e65991b07",
   "metadata": {
    "tags": []
   },
   "outputs": [
    {
     "data": {
      "text/html": [
       "<div>\n",
       "<style scoped>\n",
       "    .dataframe tbody tr th:only-of-type {\n",
       "        vertical-align: middle;\n",
       "    }\n",
       "\n",
       "    .dataframe tbody tr th {\n",
       "        vertical-align: top;\n",
       "    }\n",
       "\n",
       "    .dataframe thead th {\n",
       "        text-align: right;\n",
       "    }\n",
       "</style>\n",
       "<table border=\"1\" class=\"dataframe\">\n",
       "  <thead>\n",
       "    <tr style=\"text-align: right;\">\n",
       "      <th></th>\n",
       "      <th>Zone</th>\n",
       "      <th>Kcal/pers/jour</th>\n",
       "      <th>Kcal/pers/anne</th>\n",
       "      <th>Année</th>\n",
       "      <th>Population</th>\n",
       "    </tr>\n",
       "  </thead>\n",
       "  <tbody>\n",
       "    <tr>\n",
       "      <th>0</th>\n",
       "      <td>Afghanistan</td>\n",
       "      <td>2,087.00</td>\n",
       "      <td>761,755.00</td>\n",
       "      <td>2,017.00</td>\n",
       "      <td>36,296,113.00</td>\n",
       "    </tr>\n",
       "    <tr>\n",
       "      <th>1</th>\n",
       "      <td>Afrique du Sud</td>\n",
       "      <td>3,020.00</td>\n",
       "      <td>1,102,300.00</td>\n",
       "      <td>2,017.00</td>\n",
       "      <td>57,009,756.00</td>\n",
       "    </tr>\n",
       "    <tr>\n",
       "      <th>2</th>\n",
       "      <td>Albanie</td>\n",
       "      <td>3,188.00</td>\n",
       "      <td>1,163,620.00</td>\n",
       "      <td>2,017.00</td>\n",
       "      <td>2,884,169.00</td>\n",
       "    </tr>\n",
       "    <tr>\n",
       "      <th>3</th>\n",
       "      <td>Algérie</td>\n",
       "      <td>3,293.00</td>\n",
       "      <td>1,201,945.00</td>\n",
       "      <td>2,017.00</td>\n",
       "      <td>41,389,189.00</td>\n",
       "    </tr>\n",
       "    <tr>\n",
       "      <th>4</th>\n",
       "      <td>Allemagne</td>\n",
       "      <td>3,503.00</td>\n",
       "      <td>1,278,595.00</td>\n",
       "      <td>2,017.00</td>\n",
       "      <td>82,658,409.00</td>\n",
       "    </tr>\n",
       "    <tr>\n",
       "      <th>...</th>\n",
       "      <td>...</td>\n",
       "      <td>...</td>\n",
       "      <td>...</td>\n",
       "      <td>...</td>\n",
       "      <td>...</td>\n",
       "    </tr>\n",
       "    <tr>\n",
       "      <th>169</th>\n",
       "      <td>Émirats arabes unis</td>\n",
       "      <td>3,275.00</td>\n",
       "      <td>1,195,375.00</td>\n",
       "      <td>2,017.00</td>\n",
       "      <td>9,487,203.00</td>\n",
       "    </tr>\n",
       "    <tr>\n",
       "      <th>170</th>\n",
       "      <td>Équateur</td>\n",
       "      <td>2,346.00</td>\n",
       "      <td>856,290.00</td>\n",
       "      <td>2,017.00</td>\n",
       "      <td>16,785,361.00</td>\n",
       "    </tr>\n",
       "    <tr>\n",
       "      <th>171</th>\n",
       "      <td>États-Unis d'Amérique</td>\n",
       "      <td>3,682.00</td>\n",
       "      <td>1,343,930.00</td>\n",
       "      <td>2,017.00</td>\n",
       "      <td>325,084,756.00</td>\n",
       "    </tr>\n",
       "    <tr>\n",
       "      <th>172</th>\n",
       "      <td>Éthiopie</td>\n",
       "      <td>2,129.00</td>\n",
       "      <td>777,085.00</td>\n",
       "      <td>2,017.00</td>\n",
       "      <td>106,399,924.00</td>\n",
       "    </tr>\n",
       "    <tr>\n",
       "      <th>173</th>\n",
       "      <td>Îles Salomon</td>\n",
       "      <td>2,383.00</td>\n",
       "      <td>869,795.00</td>\n",
       "      <td>2,017.00</td>\n",
       "      <td>636,039.00</td>\n",
       "    </tr>\n",
       "  </tbody>\n",
       "</table>\n",
       "<p>174 rows × 5 columns</p>\n",
       "</div>"
      ],
      "text/plain": [
       "                      Zone  Kcal/pers/jour  Kcal/pers/anne    Année   \n",
       "0              Afghanistan        2,087.00      761,755.00 2,017.00  \\\n",
       "1           Afrique du Sud        3,020.00    1,102,300.00 2,017.00   \n",
       "2                  Albanie        3,188.00    1,163,620.00 2,017.00   \n",
       "3                  Algérie        3,293.00    1,201,945.00 2,017.00   \n",
       "4                Allemagne        3,503.00    1,278,595.00 2,017.00   \n",
       "..                     ...             ...             ...      ...   \n",
       "169    Émirats arabes unis        3,275.00    1,195,375.00 2,017.00   \n",
       "170               Équateur        2,346.00      856,290.00 2,017.00   \n",
       "171  États-Unis d'Amérique        3,682.00    1,343,930.00 2,017.00   \n",
       "172               Éthiopie        2,129.00      777,085.00 2,017.00   \n",
       "173           Îles Salomon        2,383.00      869,795.00 2,017.00   \n",
       "\n",
       "        Population  \n",
       "0    36,296,113.00  \n",
       "1    57,009,756.00  \n",
       "2     2,884,169.00  \n",
       "3    41,389,189.00  \n",
       "4    82,658,409.00  \n",
       "..             ...  \n",
       "169   9,487,203.00  \n",
       "170  16,785,361.00  \n",
       "171 325,084,756.00  \n",
       "172 106,399,924.00  \n",
       "173     636,039.00  \n",
       "\n",
       "[174 rows x 5 columns]"
      ]
     },
     "execution_count": 15,
     "metadata": {},
     "output_type": "execute_result"
    }
   ],
   "source": [
    "#Merging the two tables of food availability and population / Fusion des deux tableaux de disponibilité alimentaire et de population\n",
    "FoodAva_Population_Combined = pd.merge(total_food_available_by_country, population_by_country_2017, on=\"Zone\", how=\"left\")\n",
    "FoodAva_Population_Combined"
   ]
  },
  {
   "cell_type": "code",
   "execution_count": 16,
   "id": "e177597d-8928-4123-a050-0f69d8b1f706",
   "metadata": {
    "tags": []
   },
   "outputs": [
    {
     "name": "stdout",
     "output_type": "stream",
     "text": [
      "The available Kcal of food per year in the world is 7635429388975815.0 kcal\n"
     ]
    }
   ],
   "source": [
    "#Multiplying the Kcal/person/year by the population available in each country / Multiplier les Kcal/personne/an par la population disponible dans chaque pays\n",
    "FoodAva_Population_Combined[\"Kcal/anne\"] = FoodAva_Population_Combined[\"Kcal/pers/anne\"] * FoodAva_Population_Combined[\"Population\"]\n",
    "\n",
    "#Calculating the sum of Kcal available in the world / Calcul de la somme des Kcal disponibles dans le monde\n",
    "sum_Kcal_year = FoodAva_Population_Combined[\"Kcal/anne\"].sum()\n",
    "print(\"The available Kcal of food per year in the world is\", sum_Kcal_year, \"kcal\")"
   ]
  },
  {
   "cell_type": "code",
   "execution_count": 17,
   "id": "d394d926-1958-45d3-9169-22db1c180051",
   "metadata": {
    "tags": []
   },
   "outputs": [
    {
     "name": "stdout",
     "output_type": "stream",
     "text": [
      "The theoritical number of food available in the world 9,297,326,501 people annually could be fed\n"
     ]
    }
   ],
   "source": [
    "#Finding how much Kcal a person needs a year / Trouver la quantité de Kcal dont une personne a besoin par an\n",
    "Kcal_person_year = 2250*365\n",
    "\n",
    "#The number of people that can be fed / Le nombre de personnes pouvant être nourries\n",
    "feed_number_people = int(sum_Kcal_year / Kcal_person_year)\n",
    "print(\"The theoritical number of food available in the world \" + f\"{feed_number_people:,}\" + \" people annually could be fed\")"
   ]
  },
  {
   "cell_type": "markdown",
   "id": "f88b5914-6d31-426b-b6c8-8f15b9d54f11",
   "metadata": {
    "tags": []
   },
   "source": [
    "### 3. The theoretical number of people who could be fed in 2017 by vegetable products\n",
    "### 3. Le nombre théorique de personnes qui pourraient être nourries en 2017 par des produits végétaux"
   ]
  },
  {
   "cell_type": "code",
   "execution_count": 18,
   "id": "146cd5da-e108-4e2b-a594-1a05090e79ae",
   "metadata": {
    "tags": []
   },
   "outputs": [],
   "source": [
    "#Summing all the Kcal available in each country that is of vegetable origin / Sommation de toutes les Kcal disponibles dans chaque pays d'origine végétale\n",
    "total_vege_available = food_availability.groupby([\"Zone\", \"Origine\"])[\"Kcal/pers/jour\"].sum()\n",
    "df_total_vege_available = total_vege_available.reset_index()\n",
    "df_total_vege_available = df_total_vege_available.loc[df_total_vege_available[\"Origine\"] == \"vegetale\", :]"
   ]
  },
  {
   "cell_type": "code",
   "execution_count": 19,
   "id": "25df106c-7a85-4b05-95ed-04d73cd992eb",
   "metadata": {
    "tags": []
   },
   "outputs": [
    {
     "data": {
      "text/html": [
       "<div>\n",
       "<style scoped>\n",
       "    .dataframe tbody tr th:only-of-type {\n",
       "        vertical-align: middle;\n",
       "    }\n",
       "\n",
       "    .dataframe tbody tr th {\n",
       "        vertical-align: top;\n",
       "    }\n",
       "\n",
       "    .dataframe thead th {\n",
       "        text-align: right;\n",
       "    }\n",
       "</style>\n",
       "<table border=\"1\" class=\"dataframe\">\n",
       "  <thead>\n",
       "    <tr style=\"text-align: right;\">\n",
       "      <th></th>\n",
       "      <th>Zone</th>\n",
       "      <th>Origine</th>\n",
       "      <th>Kcal/pers/jour</th>\n",
       "      <th>Kcal/pers/anne</th>\n",
       "    </tr>\n",
       "  </thead>\n",
       "  <tbody>\n",
       "    <tr>\n",
       "      <th>1</th>\n",
       "      <td>Afghanistan</td>\n",
       "      <td>vegetale</td>\n",
       "      <td>1,871.00</td>\n",
       "      <td>682,915.00</td>\n",
       "    </tr>\n",
       "    <tr>\n",
       "      <th>3</th>\n",
       "      <td>Afrique du Sud</td>\n",
       "      <td>vegetale</td>\n",
       "      <td>2,533.00</td>\n",
       "      <td>924,545.00</td>\n",
       "    </tr>\n",
       "    <tr>\n",
       "      <th>5</th>\n",
       "      <td>Albanie</td>\n",
       "      <td>vegetale</td>\n",
       "      <td>2,203.00</td>\n",
       "      <td>804,095.00</td>\n",
       "    </tr>\n",
       "    <tr>\n",
       "      <th>7</th>\n",
       "      <td>Algérie</td>\n",
       "      <td>vegetale</td>\n",
       "      <td>2,915.00</td>\n",
       "      <td>1,063,975.00</td>\n",
       "    </tr>\n",
       "    <tr>\n",
       "      <th>9</th>\n",
       "      <td>Allemagne</td>\n",
       "      <td>vegetale</td>\n",
       "      <td>2,461.00</td>\n",
       "      <td>898,265.00</td>\n",
       "    </tr>\n",
       "    <tr>\n",
       "      <th>...</th>\n",
       "      <td>...</td>\n",
       "      <td>...</td>\n",
       "      <td>...</td>\n",
       "      <td>...</td>\n",
       "    </tr>\n",
       "    <tr>\n",
       "      <th>339</th>\n",
       "      <td>Émirats arabes unis</td>\n",
       "      <td>vegetale</td>\n",
       "      <td>2,718.00</td>\n",
       "      <td>992,070.00</td>\n",
       "    </tr>\n",
       "    <tr>\n",
       "      <th>341</th>\n",
       "      <td>Équateur</td>\n",
       "      <td>vegetale</td>\n",
       "      <td>1,732.00</td>\n",
       "      <td>632,180.00</td>\n",
       "    </tr>\n",
       "    <tr>\n",
       "      <th>343</th>\n",
       "      <td>États-Unis d'Amérique</td>\n",
       "      <td>vegetale</td>\n",
       "      <td>2,698.00</td>\n",
       "      <td>984,770.00</td>\n",
       "    </tr>\n",
       "    <tr>\n",
       "      <th>345</th>\n",
       "      <td>Éthiopie</td>\n",
       "      <td>vegetale</td>\n",
       "      <td>2,005.00</td>\n",
       "      <td>731,825.00</td>\n",
       "    </tr>\n",
       "    <tr>\n",
       "      <th>347</th>\n",
       "      <td>Îles Salomon</td>\n",
       "      <td>vegetale</td>\n",
       "      <td>2,187.00</td>\n",
       "      <td>798,255.00</td>\n",
       "    </tr>\n",
       "  </tbody>\n",
       "</table>\n",
       "<p>174 rows × 4 columns</p>\n",
       "</div>"
      ],
      "text/plain": [
       "                      Zone   Origine  Kcal/pers/jour  Kcal/pers/anne\n",
       "1              Afghanistan  vegetale        1,871.00      682,915.00\n",
       "3           Afrique du Sud  vegetale        2,533.00      924,545.00\n",
       "5                  Albanie  vegetale        2,203.00      804,095.00\n",
       "7                  Algérie  vegetale        2,915.00    1,063,975.00\n",
       "9                Allemagne  vegetale        2,461.00      898,265.00\n",
       "..                     ...       ...             ...             ...\n",
       "339    Émirats arabes unis  vegetale        2,718.00      992,070.00\n",
       "341               Équateur  vegetale        1,732.00      632,180.00\n",
       "343  États-Unis d'Amérique  vegetale        2,698.00      984,770.00\n",
       "345               Éthiopie  vegetale        2,005.00      731,825.00\n",
       "347           Îles Salomon  vegetale        2,187.00      798,255.00\n",
       "\n",
       "[174 rows x 4 columns]"
      ]
     },
     "execution_count": 19,
     "metadata": {},
     "output_type": "execute_result"
    }
   ],
   "source": [
    "#Finding the total Kcal available per year / Trouver le total de Kcal disponible par an\n",
    "df_total_vege_available[\"Kcal/pers/anne\"] = df_total_vege_available[\"Kcal/pers/jour\"] * 365\n",
    "df_total_vege_available"
   ]
  },
  {
   "cell_type": "code",
   "execution_count": 20,
   "id": "c6c25d08-6bf0-4553-8076-d70d7e0542bc",
   "metadata": {
    "tags": []
   },
   "outputs": [
    {
     "name": "stdout",
     "output_type": "stream",
     "text": [
      "The available Kcal of vegetable food per year in the world is 6300178937197865.0 kcal\n"
     ]
    }
   ],
   "source": [
    "#Merging the two tables of food availability and population / Fusion des deux tableaux de disponibilité alimentaire et de population\n",
    "VegAva_Population_Combined = pd.merge(df_total_vege_available, population_by_country_2017, on=\"Zone\", how=\"left\")\n",
    "\n",
    "#Multiplying the Kcal/person/year by the population available in each country / Multiplier les Kcal/personne/an par la population disponible dans chaque pays\n",
    "VegAva_Population_Combined[\"Kcal/anne\"] = VegAva_Population_Combined[\"Kcal/pers/anne\"] * VegAva_Population_Combined[\"Population\"]\n",
    "\n",
    "#Calculating the total Kcal available in the world / Calcul du total de Kcal disponible dans le monde\n",
    "Total_Veg_Kcal_year = VegAva_Population_Combined[\"Kcal/anne\"].sum()\n",
    "print(\"The available Kcal of vegetable food per year in the world is\", Total_Veg_Kcal_year, \"kcal\")"
   ]
  },
  {
   "cell_type": "code",
   "execution_count": 21,
   "id": "ad37abd5-4425-4d7f-ab02-fcf501d5daa5",
   "metadata": {
    "tags": []
   },
   "outputs": [
    {
     "name": "stdout",
     "output_type": "stream",
     "text": [
      "The theoritical number of food available in the world 7,671,450,760 people annually could be fed\n"
     ]
    }
   ],
   "source": [
    "#Calculating how many human beings could be fed with the available vegetable kcal in the world \n",
    "#Calculer combien d'êtres humains pourraient être nourris avec les kcal végétales disponibles dans le monde\n",
    "feed_number_people_veg = int(Total_Veg_Kcal_year / Kcal_person_year)\n",
    "print(\"The theoritical number of food available in the world \" + f\"{feed_number_people_veg:,}\" + \" people annually could be fed\")"
   ]
  },
  {
   "cell_type": "markdown",
   "id": "61fe32fa-bd79-4926-9506-b575bb4235ce",
   "metadata": {
    "tags": []
   },
   "source": [
    "### 4. The use of domestic availability, in particular the part which is allocated to animal feed, the part which is lost and the part which is actually used for human food\n",
    "### 4. L’utilisation de la disponibilité intérieure, en particulier la part qui est attribuée à l’alimentation animale, celle qui est perdue et celle qui est concrètement utilisée pour l'alimentation humaine."
   ]
  },
  {
   "cell_type": "code",
   "execution_count": 22,
   "id": "aad8ec2e-e66c-4f20-addf-8bfce2ce34ac",
   "metadata": {
    "tags": []
   },
   "outputs": [
    {
     "data": {
      "text/plain": [
       "9848994.0"
      ]
     },
     "execution_count": 22,
     "metadata": {},
     "output_type": "execute_result"
    }
   ],
   "source": [
    "#Finding the total domestic food availability in the world \n",
    "domestic_foodAva = food_availability[\"Disponibilité intérieure\"].sum()\n",
    "domestic_foodAva"
   ]
  },
  {
   "cell_type": "code",
   "execution_count": 23,
   "id": "a2899060-8dec-4886-a619-85f44320f599",
   "metadata": {
    "tags": []
   },
   "outputs": [
    {
     "name": "stdout",
     "output_type": "stream",
     "text": [
      "The percentage of domestic food in the world that is allocated to animal feed is 13.24 %\n"
     ]
    }
   ],
   "source": [
    "#How much is allocated to animal feed\n",
    "Animal_food = food_availability[\"Aliments pour animaux\"].sum()\n",
    "allocated_animal_food = (Animal_food/domestic_foodAva)*100\n",
    "print(\"The percentage of domestic food in the world that is allocated to animal feed is \" + f\"{allocated_animal_food:.2f}\" + \" %\")"
   ]
  },
  {
   "cell_type": "code",
   "execution_count": 24,
   "id": "51730f2c-2c46-42f0-82f9-82697515fa76",
   "metadata": {
    "tags": []
   },
   "outputs": [
    {
     "name": "stdout",
     "output_type": "stream",
     "text": [
      "The percentage of domestic food in the world that is lost is 4.61 %\n"
     ]
    }
   ],
   "source": [
    "#How much is lost \n",
    "Lost_food = food_availability[\"Pertes\"].sum()\n",
    "Perc_lost_food = (Lost_food/domestic_foodAva)*100\n",
    "print(\"The percentage of domestic food in the world that is lost is \" + f\"{Perc_lost_food:.2f}\" + \" %\")"
   ]
  },
  {
   "cell_type": "code",
   "execution_count": 25,
   "id": "a557b107-154e-4d62-94d0-d84c1edbd404",
   "metadata": {
    "tags": []
   },
   "outputs": [
    {
     "name": "stdout",
     "output_type": "stream",
     "text": [
      "The percentage of domestic food in the world that is actually for human food is 49.51 %\n"
     ]
    }
   ],
   "source": [
    "#How much is actually used for human food \n",
    "Human_food = food_availability[\"Nourriture\"].sum()\n",
    "Perc_human_food = (Human_food/domestic_foodAva)*100\n",
    "print(\"The percentage of domestic food in the world that is actually for human food is \" + f\"{Perc_human_food:.2f}\" + \" %\")"
   ]
  },
  {
   "cell_type": "markdown",
   "id": "0f6a5f0e-3fef-4535-bf23-6fd4fccadc63",
   "metadata": {},
   "source": [
    "# Part II"
   ]
  },
  {
   "cell_type": "markdown",
   "id": "35579441-fc4d-42ff-a5be-9469212dcd33",
   "metadata": {},
   "source": [
    "##  Part II Requests / Demandes de la Partie II"
   ]
  },
  {
   "cell_type": "markdown",
   "id": "94ef7ab4-c2d6-4156-92dd-137b232ce7dd",
   "metadata": {},
   "source": [
    "**FR**\n",
    "\n",
    "1. j’aimerais que tu puisses nous donner les pays pour lesquels la proportion de personnes sous-alimentées est la plus forte en 2017\n",
    "2. ceux qui ont le plus bénéficié d’aide depuis 2013\n",
    "3. ceux ayant le plus/le moins de disponibilité/habitant, etc.\n",
    "4. toutes les infos que tu trouverais utiles pour mettre en relief les pays qui semblent être le plus en difficulté, au niveau alimentaire."
   ]
  },
  {
   "cell_type": "markdown",
   "id": "344ca667-6bb6-4c56-87a2-e486a050b3d3",
   "metadata": {},
   "source": [
    "**EN**\n",
    "\n",
    "1. I would like you to give us the countries for which the proportion of undernourished people is the highest in 2017\n",
    "2. those which have benefited the most from aid since 2013\n",
    "3. those with the most/least availability/inhabitant, etc.\n",
    "4. All the information that you would find useful to highlight the countries that seem to be in the most difficulty, in terms of food."
   ]
  },
  {
   "cell_type": "markdown",
   "id": "99814a29-7bf4-4093-9d6e-0abc32a18e1f",
   "metadata": {
    "tags": []
   },
   "source": [
    "## Part II Requested Results / Partie II Résultats demandés"
   ]
  },
  {
   "cell_type": "markdown",
   "id": "d13bcd6f-bfbc-4699-a6a3-5ca561e786d2",
   "metadata": {
    "jp-MarkdownHeadingCollapsed": true,
    "tags": []
   },
   "source": [
    "### 1. The countries for which the proportion of undernourished people is the highest in 2017\n",
    "### 1. Les pays pour lesquels la proportion de personnes sous-alimentées est la plus forte en 2017"
   ]
  },
  {
   "cell_type": "code",
   "execution_count": 26,
   "id": "f5a199bd-401a-4494-86f4-b51b6de558db",
   "metadata": {
    "tags": []
   },
   "outputs": [],
   "source": [
    "#Filtering the undernutrition dataframe to only 2016-2018\n",
    "under_nutrition_20162018 = under_nutrition[under_nutrition[\"Année\"] == \"2016-2018\"]\n",
    "under_nutrition_20162018 = under_nutrition_20162018.reset_index(drop=True)"
   ]
  },
  {
   "cell_type": "code",
   "execution_count": 27,
   "id": "05709bad-deb8-4d37-8fd4-59e4f1a8ed5d",
   "metadata": {
    "tags": []
   },
   "outputs": [
    {
     "data": {
      "text/html": [
       "<div>\n",
       "<style scoped>\n",
       "    .dataframe tbody tr th:only-of-type {\n",
       "        vertical-align: middle;\n",
       "    }\n",
       "\n",
       "    .dataframe tbody tr th {\n",
       "        vertical-align: top;\n",
       "    }\n",
       "\n",
       "    .dataframe thead th {\n",
       "        text-align: right;\n",
       "    }\n",
       "</style>\n",
       "<table border=\"1\" class=\"dataframe\">\n",
       "  <thead>\n",
       "    <tr style=\"text-align: right;\">\n",
       "      <th></th>\n",
       "      <th>Zone</th>\n",
       "      <th>Année</th>\n",
       "      <th>Valeur</th>\n",
       "    </tr>\n",
       "  </thead>\n",
       "  <tbody>\n",
       "    <tr>\n",
       "      <th>0</th>\n",
       "      <td>Afghanistan</td>\n",
       "      <td>2016-2018</td>\n",
       "      <td>10,500,000.00</td>\n",
       "    </tr>\n",
       "    <tr>\n",
       "      <th>1</th>\n",
       "      <td>Afrique du Sud</td>\n",
       "      <td>2016-2018</td>\n",
       "      <td>3,100,000.00</td>\n",
       "    </tr>\n",
       "    <tr>\n",
       "      <th>2</th>\n",
       "      <td>Albanie</td>\n",
       "      <td>2016-2018</td>\n",
       "      <td>100,000.00</td>\n",
       "    </tr>\n",
       "    <tr>\n",
       "      <th>3</th>\n",
       "      <td>Algérie</td>\n",
       "      <td>2016-2018</td>\n",
       "      <td>1,300,000.00</td>\n",
       "    </tr>\n",
       "    <tr>\n",
       "      <th>4</th>\n",
       "      <td>Allemagne</td>\n",
       "      <td>2016-2018</td>\n",
       "      <td>NaN</td>\n",
       "    </tr>\n",
       "    <tr>\n",
       "      <th>...</th>\n",
       "      <td>...</td>\n",
       "      <td>...</td>\n",
       "      <td>...</td>\n",
       "    </tr>\n",
       "    <tr>\n",
       "      <th>198</th>\n",
       "      <td>Venezuela (République bolivarienne du)</td>\n",
       "      <td>2016-2018</td>\n",
       "      <td>8,000,000.00</td>\n",
       "    </tr>\n",
       "    <tr>\n",
       "      <th>199</th>\n",
       "      <td>Viet Nam</td>\n",
       "      <td>2016-2018</td>\n",
       "      <td>6,500,000.00</td>\n",
       "    </tr>\n",
       "    <tr>\n",
       "      <th>200</th>\n",
       "      <td>Yémen</td>\n",
       "      <td>2016-2018</td>\n",
       "      <td>NaN</td>\n",
       "    </tr>\n",
       "    <tr>\n",
       "      <th>201</th>\n",
       "      <td>Zambie</td>\n",
       "      <td>2016-2018</td>\n",
       "      <td>NaN</td>\n",
       "    </tr>\n",
       "    <tr>\n",
       "      <th>202</th>\n",
       "      <td>Zimbabwe</td>\n",
       "      <td>2016-2018</td>\n",
       "      <td>NaN</td>\n",
       "    </tr>\n",
       "  </tbody>\n",
       "</table>\n",
       "<p>203 rows × 3 columns</p>\n",
       "</div>"
      ],
      "text/plain": [
       "                                       Zone      Année        Valeur\n",
       "0                               Afghanistan  2016-2018 10,500,000.00\n",
       "1                            Afrique du Sud  2016-2018  3,100,000.00\n",
       "2                                   Albanie  2016-2018    100,000.00\n",
       "3                                   Algérie  2016-2018  1,300,000.00\n",
       "4                                 Allemagne  2016-2018           NaN\n",
       "..                                      ...        ...           ...\n",
       "198  Venezuela (République bolivarienne du)  2016-2018  8,000,000.00\n",
       "199                                Viet Nam  2016-2018  6,500,000.00\n",
       "200                                   Yémen  2016-2018           NaN\n",
       "201                                  Zambie  2016-2018           NaN\n",
       "202                                Zimbabwe  2016-2018           NaN\n",
       "\n",
       "[203 rows x 3 columns]"
      ]
     },
     "execution_count": 27,
     "metadata": {},
     "output_type": "execute_result"
    }
   ],
   "source": [
    "#Showing the number of Valeur in millions \n",
    "under_nutrition_20162018[\"Valeur\"] = under_nutrition_20162018[\"Valeur\"] * 1e6\n",
    "under_nutrition_20162018"
   ]
  },
  {
   "cell_type": "code",
   "execution_count": 28,
   "id": "e60195a2-d602-469a-a844-0377a20e79f5",
   "metadata": {
    "tags": []
   },
   "outputs": [
    {
     "data": {
      "text/html": [
       "<div>\n",
       "<style scoped>\n",
       "    .dataframe tbody tr th:only-of-type {\n",
       "        vertical-align: middle;\n",
       "    }\n",
       "\n",
       "    .dataframe tbody tr th {\n",
       "        vertical-align: top;\n",
       "    }\n",
       "\n",
       "    .dataframe thead th {\n",
       "        text-align: right;\n",
       "    }\n",
       "</style>\n",
       "<table border=\"1\" class=\"dataframe\">\n",
       "  <thead>\n",
       "    <tr style=\"text-align: right;\">\n",
       "      <th></th>\n",
       "      <th>Zone</th>\n",
       "      <th>Année_x</th>\n",
       "      <th>Valeur</th>\n",
       "      <th>Année_y</th>\n",
       "      <th>Population</th>\n",
       "    </tr>\n",
       "  </thead>\n",
       "  <tbody>\n",
       "    <tr>\n",
       "      <th>0</th>\n",
       "      <td>Afghanistan</td>\n",
       "      <td>2016-2018</td>\n",
       "      <td>10,500,000.00</td>\n",
       "      <td>2017</td>\n",
       "      <td>36,296,113.00</td>\n",
       "    </tr>\n",
       "    <tr>\n",
       "      <th>1</th>\n",
       "      <td>Afrique du Sud</td>\n",
       "      <td>2016-2018</td>\n",
       "      <td>3,100,000.00</td>\n",
       "      <td>2017</td>\n",
       "      <td>57,009,756.00</td>\n",
       "    </tr>\n",
       "    <tr>\n",
       "      <th>2</th>\n",
       "      <td>Albanie</td>\n",
       "      <td>2016-2018</td>\n",
       "      <td>100,000.00</td>\n",
       "      <td>2017</td>\n",
       "      <td>2,884,169.00</td>\n",
       "    </tr>\n",
       "    <tr>\n",
       "      <th>3</th>\n",
       "      <td>Algérie</td>\n",
       "      <td>2016-2018</td>\n",
       "      <td>1,300,000.00</td>\n",
       "      <td>2017</td>\n",
       "      <td>41,389,189.00</td>\n",
       "    </tr>\n",
       "    <tr>\n",
       "      <th>4</th>\n",
       "      <td>Allemagne</td>\n",
       "      <td>2016-2018</td>\n",
       "      <td>NaN</td>\n",
       "      <td>2017</td>\n",
       "      <td>82,658,409.00</td>\n",
       "    </tr>\n",
       "    <tr>\n",
       "      <th>...</th>\n",
       "      <td>...</td>\n",
       "      <td>...</td>\n",
       "      <td>...</td>\n",
       "      <td>...</td>\n",
       "      <td>...</td>\n",
       "    </tr>\n",
       "    <tr>\n",
       "      <th>198</th>\n",
       "      <td>Venezuela (République bolivarienne du)</td>\n",
       "      <td>2016-2018</td>\n",
       "      <td>8,000,000.00</td>\n",
       "      <td>2017</td>\n",
       "      <td>29,402,484.00</td>\n",
       "    </tr>\n",
       "    <tr>\n",
       "      <th>199</th>\n",
       "      <td>Viet Nam</td>\n",
       "      <td>2016-2018</td>\n",
       "      <td>6,500,000.00</td>\n",
       "      <td>2017</td>\n",
       "      <td>94,600,648.00</td>\n",
       "    </tr>\n",
       "    <tr>\n",
       "      <th>200</th>\n",
       "      <td>Yémen</td>\n",
       "      <td>2016-2018</td>\n",
       "      <td>NaN</td>\n",
       "      <td>2017</td>\n",
       "      <td>27,834,819.00</td>\n",
       "    </tr>\n",
       "    <tr>\n",
       "      <th>201</th>\n",
       "      <td>Zambie</td>\n",
       "      <td>2016-2018</td>\n",
       "      <td>NaN</td>\n",
       "      <td>2017</td>\n",
       "      <td>16,853,599.00</td>\n",
       "    </tr>\n",
       "    <tr>\n",
       "      <th>202</th>\n",
       "      <td>Zimbabwe</td>\n",
       "      <td>2016-2018</td>\n",
       "      <td>NaN</td>\n",
       "      <td>2017</td>\n",
       "      <td>14,236,595.00</td>\n",
       "    </tr>\n",
       "  </tbody>\n",
       "</table>\n",
       "<p>203 rows × 5 columns</p>\n",
       "</div>"
      ],
      "text/plain": [
       "                                       Zone    Année_x        Valeur  Année_y   \n",
       "0                               Afghanistan  2016-2018 10,500,000.00     2017  \\\n",
       "1                            Afrique du Sud  2016-2018  3,100,000.00     2017   \n",
       "2                                   Albanie  2016-2018    100,000.00     2017   \n",
       "3                                   Algérie  2016-2018  1,300,000.00     2017   \n",
       "4                                 Allemagne  2016-2018           NaN     2017   \n",
       "..                                      ...        ...           ...      ...   \n",
       "198  Venezuela (République bolivarienne du)  2016-2018  8,000,000.00     2017   \n",
       "199                                Viet Nam  2016-2018  6,500,000.00     2017   \n",
       "200                                   Yémen  2016-2018           NaN     2017   \n",
       "201                                  Zambie  2016-2018           NaN     2017   \n",
       "202                                Zimbabwe  2016-2018           NaN     2017   \n",
       "\n",
       "       Population  \n",
       "0   36,296,113.00  \n",
       "1   57,009,756.00  \n",
       "2    2,884,169.00  \n",
       "3   41,389,189.00  \n",
       "4   82,658,409.00  \n",
       "..            ...  \n",
       "198 29,402,484.00  \n",
       "199 94,600,648.00  \n",
       "200 27,834,819.00  \n",
       "201 16,853,599.00  \n",
       "202 14,236,595.00  \n",
       "\n",
       "[203 rows x 5 columns]"
      ]
     },
     "execution_count": 28,
     "metadata": {},
     "output_type": "execute_result"
    }
   ],
   "source": [
    "#Merge the two tables of undernutition and population on Zone \n",
    "UnderNutrition_Population_Combined = pd.merge(under_nutrition_20162018, population_by_country_2017, on=\"Zone\", how=\"left\")\n",
    "UnderNutrition_Population_Combined"
   ]
  },
  {
   "cell_type": "code",
   "execution_count": 65,
   "id": "1c90f07d-6734-4721-9b87-a263b9f02be2",
   "metadata": {
    "tags": []
   },
   "outputs": [
    {
     "data": {
      "text/html": [
       "<div>\n",
       "<style scoped>\n",
       "    .dataframe tbody tr th:only-of-type {\n",
       "        vertical-align: middle;\n",
       "    }\n",
       "\n",
       "    .dataframe tbody tr th {\n",
       "        vertical-align: top;\n",
       "    }\n",
       "\n",
       "    .dataframe thead th {\n",
       "        text-align: right;\n",
       "    }\n",
       "</style>\n",
       "<table border=\"1\" class=\"dataframe\">\n",
       "  <thead>\n",
       "    <tr style=\"text-align: right;\">\n",
       "      <th></th>\n",
       "      <th>Zone</th>\n",
       "      <th>Proportion_UnderNutrition</th>\n",
       "    </tr>\n",
       "  </thead>\n",
       "  <tbody>\n",
       "    <tr>\n",
       "      <th>1</th>\n",
       "      <td>Haïti</td>\n",
       "      <td>48.26</td>\n",
       "    </tr>\n",
       "    <tr>\n",
       "      <th>2</th>\n",
       "      <td>République populaire démocratique de Corée</td>\n",
       "      <td>47.19</td>\n",
       "    </tr>\n",
       "    <tr>\n",
       "      <th>3</th>\n",
       "      <td>Madagascar</td>\n",
       "      <td>41.06</td>\n",
       "    </tr>\n",
       "    <tr>\n",
       "      <th>4</th>\n",
       "      <td>Libéria</td>\n",
       "      <td>38.28</td>\n",
       "    </tr>\n",
       "    <tr>\n",
       "      <th>5</th>\n",
       "      <td>Lesotho</td>\n",
       "      <td>38.25</td>\n",
       "    </tr>\n",
       "    <tr>\n",
       "      <th>6</th>\n",
       "      <td>Tchad</td>\n",
       "      <td>37.96</td>\n",
       "    </tr>\n",
       "    <tr>\n",
       "      <th>7</th>\n",
       "      <td>Rwanda</td>\n",
       "      <td>35.06</td>\n",
       "    </tr>\n",
       "    <tr>\n",
       "      <th>8</th>\n",
       "      <td>Mozambique</td>\n",
       "      <td>32.81</td>\n",
       "    </tr>\n",
       "    <tr>\n",
       "      <th>9</th>\n",
       "      <td>Timor-Leste</td>\n",
       "      <td>32.17</td>\n",
       "    </tr>\n",
       "    <tr>\n",
       "      <th>10</th>\n",
       "      <td>Afghanistan</td>\n",
       "      <td>28.93</td>\n",
       "    </tr>\n",
       "  </tbody>\n",
       "</table>\n",
       "</div>"
      ],
      "text/plain": [
       "                                          Zone  Proportion_UnderNutrition\n",
       "1                                        Haïti                      48.26\n",
       "2   République populaire démocratique de Corée                      47.19\n",
       "3                                   Madagascar                      41.06\n",
       "4                                      Libéria                      38.28\n",
       "5                                      Lesotho                      38.25\n",
       "6                                        Tchad                      37.96\n",
       "7                                       Rwanda                      35.06\n",
       "8                                   Mozambique                      32.81\n",
       "9                                  Timor-Leste                      32.17\n",
       "10                                 Afghanistan                      28.93"
      ]
     },
     "execution_count": 65,
     "metadata": {},
     "output_type": "execute_result"
    }
   ],
   "source": [
    "#Finding the highest percentage of Countries with undernourished people\n",
    "UnderNutrition_Population_Combined[\"Proportion_UnderNutrition\"] = (UnderNutrition_Population_Combined[\"Valeur\"] / UnderNutrition_Population_Combined[\"Population\"]) * 100\n",
    "sorted_countries_with_undernutrition_2017 = UnderNutrition_Population_Combined.sort_values(by=\"Proportion_UnderNutrition\", ascending=False)\n",
    "highest_countries_with_undernutrition_2017 = sorted_countries_with_undernutrition_2017[[\"Zone\",\"Proportion_UnderNutrition\"]].head(10)\n",
    "highest_countries_with_undernutrition_2017.reset_index(drop=True)\n",
    "highest_countries_with_undernutrition_2017.index = [i + 1 for i in range(len(highest_countries_with_undernutrition_2017))]\n",
    "highest_countries_with_undernutrition_2017"
   ]
  },
  {
   "cell_type": "markdown",
   "id": "91c89ca0-8ea5-4765-8291-16140d64928d",
   "metadata": {
    "tags": []
   },
   "source": [
    "### 2. Those which have benefited the most from aid since 2013\n",
    "### 2. ceux qui ont le plus bénéficié d’aide depuis 2013"
   ]
  },
  {
   "cell_type": "code",
   "execution_count": 34,
   "id": "185c97f5-b7a0-4e5a-b564-14c33bd6cf38",
   "metadata": {
    "tags": []
   },
   "outputs": [
    {
     "data": {
      "text/html": [
       "<div>\n",
       "<style scoped>\n",
       "    .dataframe tbody tr th:only-of-type {\n",
       "        vertical-align: middle;\n",
       "    }\n",
       "\n",
       "    .dataframe tbody tr th {\n",
       "        vertical-align: top;\n",
       "    }\n",
       "\n",
       "    .dataframe thead th {\n",
       "        text-align: right;\n",
       "    }\n",
       "</style>\n",
       "<table border=\"1\" class=\"dataframe\">\n",
       "  <thead>\n",
       "    <tr style=\"text-align: right;\">\n",
       "      <th></th>\n",
       "      <th>Pays bénéficiaire</th>\n",
       "      <th>Année</th>\n",
       "      <th>Produit</th>\n",
       "      <th>Valeur</th>\n",
       "    </tr>\n",
       "  </thead>\n",
       "  <tbody>\n",
       "    <tr>\n",
       "      <th>0</th>\n",
       "      <td>Afghanistan</td>\n",
       "      <td>2013</td>\n",
       "      <td>Autres non-céréales</td>\n",
       "      <td>682</td>\n",
       "    </tr>\n",
       "    <tr>\n",
       "      <th>1</th>\n",
       "      <td>Afghanistan</td>\n",
       "      <td>2014</td>\n",
       "      <td>Autres non-céréales</td>\n",
       "      <td>335</td>\n",
       "    </tr>\n",
       "    <tr>\n",
       "      <th>2</th>\n",
       "      <td>Afghanistan</td>\n",
       "      <td>2013</td>\n",
       "      <td>Blé et Farin</td>\n",
       "      <td>39224</td>\n",
       "    </tr>\n",
       "    <tr>\n",
       "      <th>3</th>\n",
       "      <td>Afghanistan</td>\n",
       "      <td>2014</td>\n",
       "      <td>Blé et Farin</td>\n",
       "      <td>15160</td>\n",
       "    </tr>\n",
       "    <tr>\n",
       "      <th>4</th>\n",
       "      <td>Afghanistan</td>\n",
       "      <td>2013</td>\n",
       "      <td>Céréales</td>\n",
       "      <td>40504</td>\n",
       "    </tr>\n",
       "  </tbody>\n",
       "</table>\n",
       "</div>"
      ],
      "text/plain": [
       "  Pays bénéficiaire  Année              Produit  Valeur\n",
       "0       Afghanistan   2013  Autres non-céréales     682\n",
       "1       Afghanistan   2014  Autres non-céréales     335\n",
       "2       Afghanistan   2013         Blé et Farin   39224\n",
       "3       Afghanistan   2014         Blé et Farin   15160\n",
       "4       Afghanistan   2013             Céréales   40504"
      ]
     },
     "execution_count": 34,
     "metadata": {},
     "output_type": "execute_result"
    }
   ],
   "source": [
    "food_aid.head()"
   ]
  },
  {
   "cell_type": "code",
   "execution_count": 117,
   "id": "51641084-607b-42dd-ae62-582a6b11ac4f",
   "metadata": {
    "tags": []
   },
   "outputs": [
    {
     "data": {
      "text/html": [
       "<div>\n",
       "<style scoped>\n",
       "    .dataframe tbody tr th:only-of-type {\n",
       "        vertical-align: middle;\n",
       "    }\n",
       "\n",
       "    .dataframe tbody tr th {\n",
       "        vertical-align: top;\n",
       "    }\n",
       "\n",
       "    .dataframe thead th {\n",
       "        text-align: right;\n",
       "    }\n",
       "</style>\n",
       "<table border=\"1\" class=\"dataframe\">\n",
       "  <thead>\n",
       "    <tr style=\"text-align: right;\">\n",
       "      <th></th>\n",
       "      <th>Pays bénéficiaire</th>\n",
       "      <th>Valeur</th>\n",
       "    </tr>\n",
       "  </thead>\n",
       "  <tbody>\n",
       "    <tr>\n",
       "      <th>1</th>\n",
       "      <td>République arabe syrienne</td>\n",
       "      <td>1858943</td>\n",
       "    </tr>\n",
       "    <tr>\n",
       "      <th>2</th>\n",
       "      <td>Éthiopie</td>\n",
       "      <td>1381294</td>\n",
       "    </tr>\n",
       "    <tr>\n",
       "      <th>3</th>\n",
       "      <td>Yémen</td>\n",
       "      <td>1206484</td>\n",
       "    </tr>\n",
       "    <tr>\n",
       "      <th>4</th>\n",
       "      <td>Soudan du Sud</td>\n",
       "      <td>695248</td>\n",
       "    </tr>\n",
       "    <tr>\n",
       "      <th>5</th>\n",
       "      <td>Soudan</td>\n",
       "      <td>669784</td>\n",
       "    </tr>\n",
       "    <tr>\n",
       "      <th>6</th>\n",
       "      <td>Kenya</td>\n",
       "      <td>552836</td>\n",
       "    </tr>\n",
       "    <tr>\n",
       "      <th>7</th>\n",
       "      <td>Bangladesh</td>\n",
       "      <td>348188</td>\n",
       "    </tr>\n",
       "    <tr>\n",
       "      <th>8</th>\n",
       "      <td>Somalie</td>\n",
       "      <td>292678</td>\n",
       "    </tr>\n",
       "    <tr>\n",
       "      <th>9</th>\n",
       "      <td>République démocratique du Congo</td>\n",
       "      <td>288502</td>\n",
       "    </tr>\n",
       "    <tr>\n",
       "      <th>10</th>\n",
       "      <td>Niger</td>\n",
       "      <td>276344</td>\n",
       "    </tr>\n",
       "  </tbody>\n",
       "</table>\n",
       "</div>"
      ],
      "text/plain": [
       "                   Pays bénéficiaire   Valeur\n",
       "1          République arabe syrienne  1858943\n",
       "2                           Éthiopie  1381294\n",
       "3                              Yémen  1206484\n",
       "4                      Soudan du Sud   695248\n",
       "5                             Soudan   669784\n",
       "6                              Kenya   552836\n",
       "7                         Bangladesh   348188\n",
       "8                            Somalie   292678\n",
       "9   République démocratique du Congo   288502\n",
       "10                             Niger   276344"
      ]
     },
     "execution_count": 117,
     "metadata": {},
     "output_type": "execute_result"
    }
   ],
   "source": [
    "Total_food_aid_since_2013_bycountry = food_aid.pivot_table(values=\"Valeur\", index=\"Pays bénéficiaire\", aggfunc=\"sum\")\n",
    "Sorted = Total_food_aid_since_2013_bycountry.sort_values(by=\"Valeur\", ascending=False)\n",
    "Add_Index = Sorted.reset_index()\n",
    "Add_Index.index = [i + 1 for i in range(len(Add_Index))]\n",
    "Highest_countries_with_aid_since_2013 = Add_Index.head(10)\n",
    "Highest_countries_with_aid_since_2013"
   ]
  },
  {
   "cell_type": "markdown",
   "id": "78c47157-2dcd-46e8-a097-fbb4a2414579",
   "metadata": {},
   "source": [
    "### 3. those with the most/least availability/inhabitant, etc.\n",
    "### 3. ceux ayant le plus/le moins de disponibilité/habitant, etc."
   ]
  },
  {
   "cell_type": "code",
   "execution_count": 132,
   "id": "05a9dcc5-21c2-45f1-866f-5904b164b14a",
   "metadata": {
    "tags": []
   },
   "outputs": [
    {
     "data": {
      "text/html": [
       "<div>\n",
       "<style scoped>\n",
       "    .dataframe tbody tr th:only-of-type {\n",
       "        vertical-align: middle;\n",
       "    }\n",
       "\n",
       "    .dataframe tbody tr th {\n",
       "        vertical-align: top;\n",
       "    }\n",
       "\n",
       "    .dataframe thead th {\n",
       "        text-align: right;\n",
       "    }\n",
       "</style>\n",
       "<table border=\"1\" class=\"dataframe\">\n",
       "  <thead>\n",
       "    <tr style=\"text-align: right;\">\n",
       "      <th></th>\n",
       "      <th>Zone</th>\n",
       "      <th>Kcal/pers/anne</th>\n",
       "    </tr>\n",
       "  </thead>\n",
       "  <tbody>\n",
       "    <tr>\n",
       "      <th>1</th>\n",
       "      <td>Autriche</td>\n",
       "      <td>1,376,050.00</td>\n",
       "    </tr>\n",
       "    <tr>\n",
       "      <th>2</th>\n",
       "      <td>Belgique</td>\n",
       "      <td>1,364,005.00</td>\n",
       "    </tr>\n",
       "    <tr>\n",
       "      <th>3</th>\n",
       "      <td>Turquie</td>\n",
       "      <td>1,353,420.00</td>\n",
       "    </tr>\n",
       "    <tr>\n",
       "      <th>4</th>\n",
       "      <td>États-Unis d'Amérique</td>\n",
       "      <td>1,343,930.00</td>\n",
       "    </tr>\n",
       "    <tr>\n",
       "      <th>5</th>\n",
       "      <td>Israël</td>\n",
       "      <td>1,317,650.00</td>\n",
       "    </tr>\n",
       "    <tr>\n",
       "      <th>6</th>\n",
       "      <td>Irlande</td>\n",
       "      <td>1,314,730.00</td>\n",
       "    </tr>\n",
       "    <tr>\n",
       "      <th>7</th>\n",
       "      <td>Italie</td>\n",
       "      <td>1,305,970.00</td>\n",
       "    </tr>\n",
       "    <tr>\n",
       "      <th>8</th>\n",
       "      <td>Luxembourg</td>\n",
       "      <td>1,292,100.00</td>\n",
       "    </tr>\n",
       "    <tr>\n",
       "      <th>9</th>\n",
       "      <td>Égypte</td>\n",
       "      <td>1,284,070.00</td>\n",
       "    </tr>\n",
       "    <tr>\n",
       "      <th>10</th>\n",
       "      <td>Allemagne</td>\n",
       "      <td>1,278,595.00</td>\n",
       "    </tr>\n",
       "  </tbody>\n",
       "</table>\n",
       "</div>"
      ],
      "text/plain": [
       "                     Zone  Kcal/pers/anne\n",
       "1                Autriche    1,376,050.00\n",
       "2                Belgique    1,364,005.00\n",
       "3                 Turquie    1,353,420.00\n",
       "4   États-Unis d'Amérique    1,343,930.00\n",
       "5                  Israël    1,317,650.00\n",
       "6                 Irlande    1,314,730.00\n",
       "7                  Italie    1,305,970.00\n",
       "8              Luxembourg    1,292,100.00\n",
       "9                  Égypte    1,284,070.00\n",
       "10              Allemagne    1,278,595.00"
      ]
     },
     "execution_count": 132,
     "metadata": {},
     "output_type": "execute_result"
    }
   ],
   "source": [
    "#Highest Kcal available per inhabitant \n",
    "Highest_Countries_With_Food_Per_Inhabitant = FoodAva_Population_Combined.sort_values(by=\"Kcal/pers/anne\", ascending=False)[[\"Zone\", \"Kcal/pers/anne\"]].head(10)\n",
    "Highest_Countries_With_Food_Per_Inhabitant.index = [i + 1 for i in range(len(Highest_Countries_With_Food_Per_Inhabitant))]\n",
    "Highest_Countries_With_Food_Per_Inhabitant"
   ]
  },
  {
   "cell_type": "code",
   "execution_count": 133,
   "id": "11d2d798-cab6-4d20-89ec-40e841751349",
   "metadata": {
    "tags": []
   },
   "outputs": [
    {
     "data": {
      "text/html": [
       "<div>\n",
       "<style scoped>\n",
       "    .dataframe tbody tr th:only-of-type {\n",
       "        vertical-align: middle;\n",
       "    }\n",
       "\n",
       "    .dataframe tbody tr th {\n",
       "        vertical-align: top;\n",
       "    }\n",
       "\n",
       "    .dataframe thead th {\n",
       "        text-align: right;\n",
       "    }\n",
       "</style>\n",
       "<table border=\"1\" class=\"dataframe\">\n",
       "  <thead>\n",
       "    <tr style=\"text-align: right;\">\n",
       "      <th></th>\n",
       "      <th>Zone</th>\n",
       "      <th>Kcal/pers/anne</th>\n",
       "    </tr>\n",
       "  </thead>\n",
       "  <tbody>\n",
       "    <tr>\n",
       "      <th>1</th>\n",
       "      <td>République centrafricaine</td>\n",
       "      <td>685,835.00</td>\n",
       "    </tr>\n",
       "    <tr>\n",
       "      <th>2</th>\n",
       "      <td>Zambie</td>\n",
       "      <td>702,260.00</td>\n",
       "    </tr>\n",
       "    <tr>\n",
       "      <th>3</th>\n",
       "      <td>Madagascar</td>\n",
       "      <td>750,440.00</td>\n",
       "    </tr>\n",
       "    <tr>\n",
       "      <th>4</th>\n",
       "      <td>Afghanistan</td>\n",
       "      <td>761,755.00</td>\n",
       "    </tr>\n",
       "    <tr>\n",
       "      <th>5</th>\n",
       "      <td>Haïti</td>\n",
       "      <td>762,485.00</td>\n",
       "    </tr>\n",
       "    <tr>\n",
       "      <th>6</th>\n",
       "      <td>République populaire démocratique de Corée</td>\n",
       "      <td>763,945.00</td>\n",
       "    </tr>\n",
       "    <tr>\n",
       "      <th>7</th>\n",
       "      <td>Tchad</td>\n",
       "      <td>769,785.00</td>\n",
       "    </tr>\n",
       "    <tr>\n",
       "      <th>8</th>\n",
       "      <td>Zimbabwe</td>\n",
       "      <td>771,245.00</td>\n",
       "    </tr>\n",
       "    <tr>\n",
       "      <th>9</th>\n",
       "      <td>Ouganda</td>\n",
       "      <td>775,990.00</td>\n",
       "    </tr>\n",
       "    <tr>\n",
       "      <th>10</th>\n",
       "      <td>Timor-Leste</td>\n",
       "      <td>777,085.00</td>\n",
       "    </tr>\n",
       "  </tbody>\n",
       "</table>\n",
       "</div>"
      ],
      "text/plain": [
       "                                          Zone  Kcal/pers/anne\n",
       "1                    République centrafricaine      685,835.00\n",
       "2                                       Zambie      702,260.00\n",
       "3                                   Madagascar      750,440.00\n",
       "4                                  Afghanistan      761,755.00\n",
       "5                                        Haïti      762,485.00\n",
       "6   République populaire démocratique de Corée      763,945.00\n",
       "7                                        Tchad      769,785.00\n",
       "8                                     Zimbabwe      771,245.00\n",
       "9                                      Ouganda      775,990.00\n",
       "10                                 Timor-Leste      777,085.00"
      ]
     },
     "execution_count": 133,
     "metadata": {},
     "output_type": "execute_result"
    }
   ],
   "source": [
    "#Lowest Kcal available per inhabitant \n",
    "Lowest_Countries_With_Food_Per_Inhabitant = FoodAva_Population_Combined.sort_values(by=\"Kcal/pers/anne\", ascending=True)[[\"Zone\", \"Kcal/pers/anne\"]].head(10)\n",
    "Lowest_Countries_With_Food_Per_Inhabitant.index = [1 + i for i in range(len(Lowest_Countries_With_Food_Per_Inhabitant))]\n",
    "Lowest_Countries_With_Food_Per_Inhabitant"
   ]
  },
  {
   "cell_type": "code",
   "execution_count": null,
   "id": "887ba53a-e611-4874-89ef-2eae97df9729",
   "metadata": {},
   "outputs": [],
   "source": []
  }
 ],
 "metadata": {
  "kernelspec": {
   "display_name": "Python 3 (ipykernel)",
   "language": "python",
   "name": "python3"
  },
  "language_info": {
   "codemirror_mode": {
    "name": "ipython",
    "version": 3
   },
   "file_extension": ".py",
   "mimetype": "text/x-python",
   "name": "python",
   "nbconvert_exporter": "python",
   "pygments_lexer": "ipython3",
   "version": "3.10.10"
  }
 },
 "nbformat": 4,
 "nbformat_minor": 5
}
